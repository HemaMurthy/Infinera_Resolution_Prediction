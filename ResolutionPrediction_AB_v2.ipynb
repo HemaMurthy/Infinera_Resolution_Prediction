{
 "cells": [
  {
   "cell_type": "markdown",
   "metadata": {},
   "source": [
    "Initial version using TFID vectorizor and SVM\n",
    "\n",
    "Data: 2018\n"
   ]
  },
  {
   "cell_type": "code",
   "execution_count": 1,
   "metadata": {},
   "outputs": [
    {
     "name": "stdout",
     "output_type": "stream",
     "text": [
      "[nltk_data] Downloading package punkt to\n",
      "[nltk_data]     C:\\Users\\hema.fullerton\\AppData\\Roaming\\nltk_data...\n",
      "[nltk_data]   Package punkt is already up-to-date!\n",
      "[nltk_data] Downloading package stopwords to\n",
      "[nltk_data]     C:\\Users\\hema.fullerton\\AppData\\Roaming\\nltk_data...\n",
      "[nltk_data]   Package stopwords is already up-to-date!\n",
      "[nltk_data] Downloading package wordnet to\n",
      "[nltk_data]     C:\\Users\\hema.fullerton\\AppData\\Roaming\\nltk_data...\n",
      "[nltk_data]   Package wordnet is already up-to-date!\n",
      "[nltk_data] Downloading package words to\n",
      "[nltk_data]     C:\\Users\\hema.fullerton\\AppData\\Roaming\\nltk_data...\n",
      "[nltk_data]   Package words is already up-to-date!\n",
      "[nltk_data] Downloading package averaged_perceptron_tagger to\n",
      "[nltk_data]     C:\\Users\\hema.fullerton\\AppData\\Roaming\\nltk_data...\n",
      "[nltk_data]   Package averaged_perceptron_tagger is already up-to-\n",
      "[nltk_data]       date!\n"
     ]
    }
   ],
   "source": [
    "# -*- coding: utf-8 -*-\n",
    "#!/usr/bin/env python\n",
    "import numpy as np\n",
    "import pandas as pd\n",
    "from matplotlib import pyplot as plt\n",
    "import math\n",
    "import string\n",
    "#import requests\n",
    "#from bs4 import BeautifulSoup\n",
    "import re\n",
    "import os\n",
    "import sys\n",
    "from IPython.display import display, HTML\n",
    "import re\n",
    "import nltk\n",
    "from nltk import tokenize\n",
    "nltk.download('punkt')\n",
    "from nltk.corpus import stopwords\n",
    "nltk.download('stopwords')\n",
    "from nltk.stem import WordNetLemmatizer\n",
    "nltk.download('wordnet')\n",
    "nltk.download('words')\n",
    "nltk.download('averaged_perceptron_tagger')\n",
    "from nltk.tokenize import regexp_tokenize\n",
    "\n",
    "from sklearn.metrics.pairwise import cosine_similarity\n",
    "from sklearn.feature_extraction.text import CountVectorizer\n",
    "from sklearn.model_selection import train_test_split\n",
    "from sklearn.feature_extraction.text import TfidfVectorizer\n"
   ]
  },
  {
   "cell_type": "markdown",
   "metadata": {},
   "source": [
    "from sklearn.svm import LinearSVC\n",
    "from sklearn.metrics import accuracy_score\n",
    "from keras.preprocessing import text, sequence"
   ]
  },
  {
   "cell_type": "code",
   "execution_count": 2,
   "metadata": {},
   "outputs": [
    {
     "name": "stderr",
     "output_type": "stream",
     "text": [
      "C:\\Users\\hema.fullerton\\Anaconda3\\envs\\Keras\\lib\\site-packages\\IPython\\core\\interactiveshell.py:2785: DtypeWarning: Columns (16,19) have mixed types. Specify dtype option on import or set low_memory=False.\n",
      "  interactivity=interactivity, compiler=compiler, result=result)\n"
     ]
    },
    {
     "data": {
      "text/plain": [
       "(77839, 49)"
      ]
     },
     "execution_count": 2,
     "metadata": {},
     "output_type": "execute_result"
    }
   ],
   "source": [
    "#load file\n",
    "file_name = open('2_Case_Query_2018.csv', encoding=\"UTF-8\", errors='ignore')\n",
    "data=pd.read_csv(file_name)\n",
    "data.shape"
   ]
  },
  {
   "cell_type": "code",
   "execution_count": 3,
   "metadata": {},
   "outputs": [
    {
     "data": {
      "text/html": [
       "<div>\n",
       "<style scoped>\n",
       "    .dataframe tbody tr th:only-of-type {\n",
       "        vertical-align: middle;\n",
       "    }\n",
       "\n",
       "    .dataframe tbody tr th {\n",
       "        vertical-align: top;\n",
       "    }\n",
       "\n",
       "    .dataframe thead th {\n",
       "        text-align: right;\n",
       "    }\n",
       "</style>\n",
       "<table border=\"1\" class=\"dataframe\">\n",
       "  <thead>\n",
       "    <tr style=\"text-align: right;\">\n",
       "      <th></th>\n",
       "      <th>AccountId</th>\n",
       "      <th>CaseNumber</th>\n",
       "      <th>Description</th>\n",
       "      <th>Priority</th>\n",
       "      <th>ResolutionCode__c</th>\n",
       "      <th>Subject</th>\n",
       "    </tr>\n",
       "  </thead>\n",
       "  <tbody>\n",
       "    <tr>\n",
       "      <th>0</th>\n",
       "      <td>0015000000MOCkCAAX</td>\n",
       "      <td>259654.0</td>\n",
       "      <td>CAUTION: This email originated from outside of...</td>\n",
       "      <td>Medium</td>\n",
       "      <td>Hardware Replaced</td>\n",
       "      <td>00259654 / Colt Telecom / Minor / Infinera RMA...</td>\n",
       "    </tr>\n",
       "    <tr>\n",
       "      <th>1</th>\n",
       "      <td>00138000016DWjAAAW</td>\n",
       "      <td>259737.0</td>\n",
       "      <td>CAUTION: This email originated from outside of...</td>\n",
       "      <td>Medium</td>\n",
       "      <td>Duplicate Case</td>\n",
       "      <td>00259737 / null / Minor / Re: Power under Volt...</td>\n",
       "    </tr>\n",
       "    <tr>\n",
       "      <th>2</th>\n",
       "      <td>0015000000f1vhLAAQ</td>\n",
       "      <td>258154.0</td>\n",
       "      <td>2x LIC-T-XT36-100Q-ZC8 required.</td>\n",
       "      <td>Standard</td>\n",
       "      <td>Instant Bandwidth Problem</td>\n",
       "      <td>00258154 / euNetworks Fiber UK Ltd / Minor / E...</td>\n",
       "    </tr>\n",
       "  </tbody>\n",
       "</table>\n",
       "</div>"
      ],
      "text/plain": [
       "            AccountId  CaseNumber  \\\n",
       "0  0015000000MOCkCAAX    259654.0   \n",
       "1  00138000016DWjAAAW    259737.0   \n",
       "2  0015000000f1vhLAAQ    258154.0   \n",
       "\n",
       "                                         Description  Priority  \\\n",
       "0  CAUTION: This email originated from outside of...    Medium   \n",
       "1  CAUTION: This email originated from outside of...    Medium   \n",
       "2                   2x LIC-T-XT36-100Q-ZC8 required.  Standard   \n",
       "\n",
       "           ResolutionCode__c  \\\n",
       "0          Hardware Replaced   \n",
       "1             Duplicate Case   \n",
       "2  Instant Bandwidth Problem   \n",
       "\n",
       "                                             Subject  \n",
       "0  00259654 / Colt Telecom / Minor / Infinera RMA...  \n",
       "1  00259737 / null / Minor / Re: Power under Volt...  \n",
       "2  00258154 / euNetworks Fiber UK Ltd / Minor / E...  "
      ]
     },
     "execution_count": 3,
     "metadata": {},
     "output_type": "execute_result"
    }
   ],
   "source": [
    "#dropping unnecessary columns\n",
    "data.drop(labels=['CaseClosedDate__c', 'CaseCreatedDate__c','CaseOwnerEmail__c',\n",
    "                  'CaseOwnerProfile__c','Case_Age_In_Business_Hours__c', 'Case_Type__c', \n",
    "                  'ClosedDate','ContactEmail', 'CountryofIssue__c', 'CreatedDate', \n",
    "                  'CustomerRegion__c','Customer_Priority__c', 'DevtrackCreationDate__c',\n",
    "                  'DevtrackId__c', 'Escalated_days__c', 'Escalated_to_Tier_4__c', 'Escalation_Severity__c',\n",
    "                  'Infinera_Responsibility_HH_MM_SS__c','EnterDetailedProblemDescription__c',\n",
    "       'Infinera_Responsibility_mins__c', 'LastActivityDate__c',\n",
    "       'LastModifiedDate', 'Last_Status_Change__c', 'NetworkImpact__c',\n",
    "       'NetworkStatus__c', 'Number_of_Hours_No_Action__c', 'Origin',\n",
    "       'OutageStarttoOutageStopminutes__c','Resolution_Time__c', 'ResponseDate__c', 'ServiceAccount__c',\n",
    "      'SpecificEscalationRequestQuestion__c','ProductId__c','ProductLine__c',\n",
    "       'StarttoOutageStopmins_mins__c', 'Status', 'SWVersion__c','Severity__c',\n",
    "       'TACCaseStatus__c', 'Tier_4_Escalation_Status__c','ResolutionDetails__c',\n",
    "       'Time_With_Customer__c', 'Time_With_Support__c'], axis=1, inplace=True)\n",
    "data.head(3)"
   ]
  },
  {
   "cell_type": "markdown",
   "metadata": {},
   "source": [
    "# Extracting Key words and Preprocessing"
   ]
  },
  {
   "cell_type": "code",
   "execution_count": 4,
   "metadata": {},
   "outputs": [],
   "source": [
    "#functions for pre-processing text\n",
    "def cleanString(comment):\n",
    "    #stopWords = set(stopwords.words('english'))\n",
    "    lemmatizer = WordNetLemmatizer()\n",
    "    returnString = \"\"\n",
    "    sentence_token = tokenize.sent_tokenize(str(comment))\n",
    "    idx_list = []\n",
    "    for j in range(len(sentence_token)):\n",
    "        single_sentence = tokenize.word_tokenize(sentence_token[j])\n",
    "        sentences_filtered = [(idx,lemmatizer.lemmatize(w.lower())) for idx,w in enumerate(single_sentence) ]\n",
    "                              #if w.isalnum()]\n",
    "        idx_list.append([x[0] for x in sentences_filtered])\n",
    "        word_list = [x[1] for x in sentences_filtered]\n",
    "        returnString = returnString + ' '.join(word_list)\n",
    "    \n",
    "    return returnString#, idx_list\n",
    "\n",
    "def give_last(string):        \n",
    "    #last_string=[]\n",
    "    last_string=str(string).split(\"/\")\n",
    "    last_string=\" \".join(str(x) for x in last_string[-1:])\n",
    "    return last_string\n",
    "\n",
    "def remove_almum_and_digits(string): \n",
    "    pattern = '[0-9]'\n",
    "    string = re.sub(pattern, ' ', string)\n",
    "    # Remove some special characters\n",
    "    string = re.sub(r'([\\'\\\"\\.\\(\\)\\!\\?\\-\\\\\\/\\,])', r' ', str(string))\n",
    "    # Replace numbers and symbols with language\n",
    "    returnString = re.sub(r'([\\;\\:\\|#*_=;.,\\-\\n])', ' ', string)\n",
    "    return returnString\n"
   ]
  },
  {
   "cell_type": "code",
   "execution_count": 5,
   "metadata": {},
   "outputs": [
    {
     "data": {
      "text/html": [
       "<div>\n",
       "<style scoped>\n",
       "    .dataframe tbody tr th:only-of-type {\n",
       "        vertical-align: middle;\n",
       "    }\n",
       "\n",
       "    .dataframe tbody tr th {\n",
       "        vertical-align: top;\n",
       "    }\n",
       "\n",
       "    .dataframe thead th {\n",
       "        text-align: right;\n",
       "    }\n",
       "</style>\n",
       "<table border=\"1\" class=\"dataframe\">\n",
       "  <thead>\n",
       "    <tr style=\"text-align: right;\">\n",
       "      <th></th>\n",
       "      <th>Subject</th>\n",
       "      <th>Key_words</th>\n",
       "    </tr>\n",
       "  </thead>\n",
       "  <tbody>\n",
       "    <tr>\n",
       "      <th>0</th>\n",
       "      <td>00259654 / Colt Telecom / Minor / Infinera RMA...</td>\n",
       "      <td>infinera rma case number colt tt fan fail stl d d</td>\n",
       "    </tr>\n",
       "    <tr>\n",
       "      <th>1</th>\n",
       "      <td>00259737 / null / Minor / Re: Power under Volt...</td>\n",
       "      <td>re power under voltage and pem failure alarm x...</td>\n",
       "    </tr>\n",
       "    <tr>\n",
       "      <th>2</th>\n",
       "      <td>00258154 / euNetworks Fiber UK Ltd / Minor / E...</td>\n",
       "      <td>emergency license required for marseille frank...</td>\n",
       "    </tr>\n",
       "    <tr>\n",
       "      <th>3</th>\n",
       "      <td>00258310 / GCI / Informational / OA compatibility</td>\n",
       "      <td>oa compatibility</td>\n",
       "    </tr>\n",
       "    <tr>\n",
       "      <th>4</th>\n",
       "      <td>need to refurbish/ECO rework</td>\n",
       "      <td>eco rework</td>\n",
       "    </tr>\n",
       "  </tbody>\n",
       "</table>\n",
       "</div>"
      ],
      "text/plain": [
       "                                             Subject  \\\n",
       "0  00259654 / Colt Telecom / Minor / Infinera RMA...   \n",
       "1  00259737 / null / Minor / Re: Power under Volt...   \n",
       "2  00258154 / euNetworks Fiber UK Ltd / Minor / E...   \n",
       "3  00258310 / GCI / Informational / OA compatibility   \n",
       "4                       need to refurbish/ECO rework   \n",
       "\n",
       "                                           Key_words  \n",
       "0  infinera rma case number colt tt fan fail stl d d  \n",
       "1  re power under voltage and pem failure alarm x...  \n",
       "2  emergency license required for marseille frank...  \n",
       "3                                   oa compatibility  \n",
       "4                                         eco rework  "
      ]
     },
     "execution_count": 5,
     "metadata": {},
     "output_type": "execute_result"
    }
   ],
   "source": [
    "data['Key_words']=data['Subject'].apply(give_last)\n",
    "data['Key_words']=data['Key_words'].apply(remove_almum_and_digits)\n",
    "data['Key_words']=data['Key_words'].apply(cleanString)\n",
    "data[['Subject','Key_words']].head()"
   ]
  },
  {
   "cell_type": "code",
   "execution_count": 6,
   "metadata": {},
   "outputs": [
    {
     "data": {
      "text/html": [
       "<div>\n",
       "<style scoped>\n",
       "    .dataframe tbody tr th:only-of-type {\n",
       "        vertical-align: middle;\n",
       "    }\n",
       "\n",
       "    .dataframe tbody tr th {\n",
       "        vertical-align: top;\n",
       "    }\n",
       "\n",
       "    .dataframe thead th {\n",
       "        text-align: right;\n",
       "    }\n",
       "</style>\n",
       "<table border=\"1\" class=\"dataframe\">\n",
       "  <thead>\n",
       "    <tr style=\"text-align: right;\">\n",
       "      <th></th>\n",
       "      <th>Key_words</th>\n",
       "      <th>keys_with_nouns</th>\n",
       "    </tr>\n",
       "  </thead>\n",
       "  <tbody>\n",
       "    <tr>\n",
       "      <th>0</th>\n",
       "      <td>infinera rma case number colt tt fan fail stl d d</td>\n",
       "      <td>colt fail case infinera tt fan rma number stl</td>\n",
       "    </tr>\n",
       "    <tr>\n",
       "      <th>1</th>\n",
       "      <td>re power under voltage and pem failure alarm x...</td>\n",
       "      <td>pem power failure alarm xt mrwtn voltage</td>\n",
       "    </tr>\n",
       "    <tr>\n",
       "      <th>2</th>\n",
       "      <td>emergency license required for marseille frank...</td>\n",
       "      <td>marseille required deployment frankfurt licens...</td>\n",
       "    </tr>\n",
       "    <tr>\n",
       "      <th>3</th>\n",
       "      <td>oa compatibility</td>\n",
       "      <td>oa compatibility</td>\n",
       "    </tr>\n",
       "    <tr>\n",
       "      <th>4</th>\n",
       "      <td>eco rework</td>\n",
       "      <td>eco rework</td>\n",
       "    </tr>\n",
       "  </tbody>\n",
       "</table>\n",
       "</div>"
      ],
      "text/plain": [
       "                                           Key_words  \\\n",
       "0  infinera rma case number colt tt fan fail stl d d   \n",
       "1  re power under voltage and pem failure alarm x...   \n",
       "2  emergency license required for marseille frank...   \n",
       "3                                   oa compatibility   \n",
       "4                                         eco rework   \n",
       "\n",
       "                                     keys_with_nouns  \n",
       "0      colt fail case infinera tt fan rma number stl  \n",
       "1           pem power failure alarm xt mrwtn voltage  \n",
       "2  marseille required deployment frankfurt licens...  \n",
       "3                                   oa compatibility  \n",
       "4                                         eco rework  "
      ]
     },
     "execution_count": 6,
     "metadata": {},
     "output_type": "execute_result"
    }
   ],
   "source": [
    "from rake_nltk import Rake\n",
    "#extracting keyworkds from Subject and Description\n",
    "def extract_key_words(string):\n",
    "    r = Rake()\n",
    "    # instantiating Rake, by default is uses english stopwords from NLTK\n",
    "    # and discard all puntuation characters\n",
    "    \n",
    "    # extracting the words by passing the text\n",
    "    r.extract_keywords_from_text(string)\n",
    "\n",
    "    # getting the dictionary whith key words and their scores\n",
    "    key_words_dict_scores = r.get_word_degrees()\n",
    "    returnString=list(key_words_dict_scores.keys())\n",
    "    returnString=\" \".join(str(x) for x in returnString)\n",
    "    return returnString\n",
    "\n",
    "data['keys_with_nouns']=data['Key_words'].apply(extract_key_words)\n",
    "data[['Key_words','keys_with_nouns']].head()"
   ]
  },
  {
   "cell_type": "code",
   "execution_count": 7,
   "metadata": {},
   "outputs": [
    {
     "data": {
      "text/html": [
       "<div>\n",
       "<style scoped>\n",
       "    .dataframe tbody tr th:only-of-type {\n",
       "        vertical-align: middle;\n",
       "    }\n",
       "\n",
       "    .dataframe tbody tr th {\n",
       "        vertical-align: top;\n",
       "    }\n",
       "\n",
       "    .dataframe thead th {\n",
       "        text-align: right;\n",
       "    }\n",
       "</style>\n",
       "<table border=\"1\" class=\"dataframe\">\n",
       "  <thead>\n",
       "    <tr style=\"text-align: right;\">\n",
       "      <th></th>\n",
       "      <th>Key_words</th>\n",
       "      <th>keys_with_nouns</th>\n",
       "      <th>keys_filtered</th>\n",
       "    </tr>\n",
       "  </thead>\n",
       "  <tbody>\n",
       "    <tr>\n",
       "      <th>0</th>\n",
       "      <td>infinera rma case number colt tt fan fail stl d d</td>\n",
       "      <td>colt fail case infinera tt fan rma number stl</td>\n",
       "      <td>colt fail case fan number</td>\n",
       "    </tr>\n",
       "    <tr>\n",
       "      <th>1</th>\n",
       "      <td>re power under voltage and pem failure alarm x...</td>\n",
       "      <td>pem power failure alarm xt mrwtn voltage</td>\n",
       "      <td>power failure alarm voltage</td>\n",
       "    </tr>\n",
       "    <tr>\n",
       "      <th>2</th>\n",
       "      <td>emergency license required for marseille frank...</td>\n",
       "      <td>marseille required deployment frankfurt licens...</td>\n",
       "      <td>deployment license emergency</td>\n",
       "    </tr>\n",
       "    <tr>\n",
       "      <th>3</th>\n",
       "      <td>oa compatibility</td>\n",
       "      <td>oa compatibility</td>\n",
       "      <td>compatibility</td>\n",
       "    </tr>\n",
       "    <tr>\n",
       "      <th>4</th>\n",
       "      <td>eco rework</td>\n",
       "      <td>eco rework</td>\n",
       "      <td>rework</td>\n",
       "    </tr>\n",
       "  </tbody>\n",
       "</table>\n",
       "</div>"
      ],
      "text/plain": [
       "                                           Key_words  \\\n",
       "0  infinera rma case number colt tt fan fail stl d d   \n",
       "1  re power under voltage and pem failure alarm x...   \n",
       "2  emergency license required for marseille frank...   \n",
       "3                                   oa compatibility   \n",
       "4                                         eco rework   \n",
       "\n",
       "                                     keys_with_nouns  \\\n",
       "0      colt fail case infinera tt fan rma number stl   \n",
       "1           pem power failure alarm xt mrwtn voltage   \n",
       "2  marseille required deployment frankfurt licens...   \n",
       "3                                   oa compatibility   \n",
       "4                                         eco rework   \n",
       "\n",
       "                  keys_filtered  \n",
       "0     colt fail case fan number  \n",
       "1   power failure alarm voltage  \n",
       "2  deployment license emergency  \n",
       "3                 compatibility  \n",
       "4                        rework  "
      ]
     },
     "execution_count": 7,
     "metadata": {},
     "output_type": "execute_result"
    }
   ],
   "source": [
    "words = set(nltk.corpus.words.words())\n",
    "\n",
    "def clean_sent(sent):\n",
    "    return \" \".join(w for w in nltk.wordpunct_tokenize(str(sent)) \\\n",
    "     if w.lower() in words or not w.isalpha())\n",
    "\n",
    "data['keys_filtered']=data['keys_with_nouns'].apply(clean_sent)\n",
    "data[['Key_words','keys_with_nouns','keys_filtered']].head()"
   ]
  },
  {
   "cell_type": "markdown",
   "metadata": {},
   "source": [
    "# Analysis of Resolution codes"
   ]
  },
  {
   "cell_type": "code",
   "execution_count": 8,
   "metadata": {},
   "outputs": [
    {
     "name": "stdout",
     "output_type": "stream",
     "text": [
      "Number of unique Resolution Code:  72\n"
     ]
    },
    {
     "data": {
      "text/html": [
       "<div>\n",
       "<style scoped>\n",
       "    .dataframe tbody tr th:only-of-type {\n",
       "        vertical-align: middle;\n",
       "    }\n",
       "\n",
       "    .dataframe tbody tr th {\n",
       "        vertical-align: top;\n",
       "    }\n",
       "\n",
       "    .dataframe thead th {\n",
       "        text-align: right;\n",
       "    }\n",
       "</style>\n",
       "<table border=\"1\" class=\"dataframe\">\n",
       "  <thead>\n",
       "    <tr style=\"text-align: right;\">\n",
       "      <th></th>\n",
       "      <th>Count</th>\n",
       "      <th>Resolution_code</th>\n",
       "    </tr>\n",
       "  </thead>\n",
       "  <tbody>\n",
       "    <tr>\n",
       "      <th>20</th>\n",
       "      <td>1032</td>\n",
       "      <td>Duplicate Case</td>\n",
       "    </tr>\n",
       "    <tr>\n",
       "      <th>51</th>\n",
       "      <td>740</td>\n",
       "      <td>Other</td>\n",
       "    </tr>\n",
       "    <tr>\n",
       "      <th>52</th>\n",
       "      <td>379</td>\n",
       "      <td>Other Reason</td>\n",
       "    </tr>\n",
       "    <tr>\n",
       "      <th>55</th>\n",
       "      <td>813</td>\n",
       "      <td>Question</td>\n",
       "    </tr>\n",
       "  </tbody>\n",
       "</table>\n",
       "</div>"
      ],
      "text/plain": [
       "    Count Resolution_code\n",
       "20   1032  Duplicate Case\n",
       "51    740           Other\n",
       "52    379    Other Reason\n",
       "55    813        Question"
      ]
     },
     "execution_count": 8,
     "metadata": {},
     "output_type": "execute_result"
    }
   ],
   "source": [
    "print('Number of unique Resolution Code: ',len(data['ResolutionCode__c'].unique()))\n",
    "codes=[]#list(data['ResolutionCode__c'].unique())\n",
    "count_of_codes=[]\n",
    "codes_grouped=data.groupby('ResolutionCode__c')\n",
    "for code, count in codes_grouped: \n",
    "    codes.append(code)\n",
    "    count_of_codes.append(len(count))\n",
    "    \n",
    "df=pd.DataFrame({\n",
    "    'Resolution_code':codes,\n",
    "    'Count':count_of_codes\n",
    "})    \n",
    "\n",
    "odd_codes=['Other','Question','Other Reason','Duplicate Case']\n",
    "df[df['Resolution_code'].isin(odd_codes)]"
   ]
  },
  {
   "cell_type": "code",
   "execution_count": 9,
   "metadata": {},
   "outputs": [
    {
     "name": "stdout",
     "output_type": "stream",
     "text": [
      "Total Number of cases before filtering Duplicate cases:  28806\n",
      "Total Number of cases after filtering Duplicate cases:  27774\n"
     ]
    }
   ],
   "source": [
    "print('Total Number of cases before filtering Duplicate cases: ',df['Count'].sum())\n",
    "\n",
    "#Removing Duplicate Cases\n",
    "data=data[data.ResolutionCode__c!='Duplicate Case']\n",
    "df=df[df.Resolution_code!='Duplicate Case']\n",
    "\n",
    "print('Total Number of cases after filtering Duplicate cases: ',df['Count'].sum())"
   ]
  },
  {
   "cell_type": "code",
   "execution_count": 10,
   "metadata": {},
   "outputs": [
    {
     "data": {
      "text/plain": [
       "<matplotlib.axes._subplots.AxesSubplot at 0x190d82c3e10>"
      ]
     },
     "execution_count": 10,
     "metadata": {},
     "output_type": "execute_result"
    },
    {
     "data": {
      "image/png": "[encoded data removed]",
      "text/plain": [
       "<matplotlib.figure.Figure at 0x190d4dd3c18>"
      ]
     },
     "metadata": {
      "needs_background": "light"
     },
     "output_type": "display_data"
    }
   ],
   "source": [
    "data.ResolutionCode__c.value_counts(normalize=True).plot(kind='bar', grid=True, figsize=(16, 9))"
   ]
  },
  {
   "cell_type": "markdown",
   "metadata": {},
   "source": [
    "# Splitting the data"
   ]
  },
  {
   "cell_type": "code",
   "execution_count": 11,
   "metadata": {},
   "outputs": [
    {
     "name": "stderr",
     "output_type": "stream",
     "text": [
      "C:\\Users\\hema.fullerton\\Anaconda3\\envs\\Keras\\lib\\site-packages\\ipykernel_launcher.py:1: SettingWithCopyWarning: \n",
      "A value is trying to be set on a copy of a slice from a DataFrame.\n",
      "Try using .loc[row_indexer,col_indexer] = value instead\n",
      "\n",
      "See the caveats in the documentation: http://pandas.pydata.org/pandas-docs/stable/indexing.html#indexing-view-versus-copy\n",
      "  \"\"\"Entry point for launching an IPython kernel.\n"
     ]
    },
    {
     "data": {
      "text/plain": [
       "16682    loss optical signal\n",
       "25532    request license key\n",
       "18656               fana fan\n",
       "11501         coe problem ba\n",
       "49720                       \n",
       "Name: keys_filtered, dtype: object"
      ]
     },
     "execution_count": 11,
     "metadata": {},
     "output_type": "execute_result"
    }
   ],
   "source": [
    "data['ResolutionCode__c'] = data['ResolutionCode__c'].astype(str)\n",
    "labels = data['ResolutionCode__c']\n",
    "text = data['keys_filtered']\n",
    "\n",
    "X_train, X_test, y_train, y_test = train_test_split(text, labels, random_state=0, test_size=0.3)\n",
    "X_train.head()"
   ]
  },
  {
   "cell_type": "markdown",
   "metadata": {},
   "source": [
    "# Training with SVM"
   ]
  },
  {
   "cell_type": "code",
   "execution_count": 12,
   "metadata": {},
   "outputs": [],
   "source": [
    "from sklearn.svm import LinearSVC\n",
    "#import sklearn.calibration.CalibratedClassifierCV\n",
    "from sklearn.calibration import CalibratedClassifierCV\n",
    "from sklearn.pipeline import Pipeline\n",
    "from sklearn.model_selection import train_test_split\n",
    "from sklearn.feature_extraction.text import TfidfTransformer\n",
    "from sklearn.feature_extraction.text import CountVectorizer\n",
    "from sklearn.preprocessing import LabelEncoder\n"
   ]
  },
  {
   "cell_type": "code",
   "execution_count": 13,
   "metadata": {},
   "outputs": [],
   "source": [
    "svm = LinearSVC()\n",
    "clf = CalibratedClassifierCV(svm) "
   ]
  },
  {
   "cell_type": "code",
   "execution_count": 14,
   "metadata": {},
   "outputs": [],
   "source": [
    "model = Pipeline([('vectorizer', CountVectorizer()),\n",
    "    ('tfidf', TfidfTransformer()),\n",
    "    ('clf', clf)])"
   ]
  },
  {
   "cell_type": "code",
   "execution_count": 15,
   "metadata": {},
   "outputs": [
    {
     "name": "stderr",
     "output_type": "stream",
     "text": [
      "C:\\Users\\hema.fullerton\\Anaconda3\\envs\\Keras\\lib\\site-packages\\sklearn\\model_selection\\_split.py:1943: FutureWarning: You should specify a value for 'cv' instead of relying on the default value. The default value will change from 3 to 5 in version 0.22.\n",
      "  warnings.warn(CV_WARNING, FutureWarning)\n",
      "C:\\Users\\hema.fullerton\\Anaconda3\\envs\\Keras\\lib\\site-packages\\sklearn\\model_selection\\_split.py:626: Warning: The least populated class in y has only 1 members, which is too few. The minimum number of members in any class cannot be less than n_splits=3.\n",
      "  % (min_groups, self.n_splits)), Warning)\n"
     ]
    },
    {
     "data": {
      "text/plain": [
       "Pipeline(memory=None,\n",
       "     steps=[('vectorizer', CountVectorizer(analyzer='word', binary=False, decode_error='strict',\n",
       "        dtype=<class 'numpy.int64'>, encoding='utf-8', input='content',\n",
       "        lowercase=True, max_df=1.0, max_features=None, min_df=1,\n",
       "        ngram_range=(1, 1), preprocessor=None, stop_words=None,\n",
       "       ...lty='l2', random_state=None, tol=0.0001,\n",
       "     verbose=0),\n",
       "            cv='warn', method='sigmoid'))])"
      ]
     },
     "execution_count": 15,
     "metadata": {},
     "output_type": "execute_result"
    }
   ],
   "source": [
    "model.fit(X_train, y_train)"
   ]
  },
  {
   "cell_type": "code",
   "execution_count": 16,
   "metadata": {},
   "outputs": [
    {
     "data": {
      "text/plain": [
       "<bound method Pipeline.get_params of Pipeline(memory=None,\n",
       "     steps=[('vectorizer', CountVectorizer(analyzer='word', binary=False, decode_error='strict',\n",
       "        dtype=<class 'numpy.int64'>, encoding='utf-8', input='content',\n",
       "        lowercase=True, max_df=1.0, max_features=None, min_df=1,\n",
       "        ngram_range=(1, 1), preprocessor=None, stop_words=None,\n",
       "       ...lty='l2', random_state=None, tol=0.0001,\n",
       "     verbose=0),\n",
       "            cv='warn', method='sigmoid'))])>"
      ]
     },
     "execution_count": 16,
     "metadata": {},
     "output_type": "execute_result"
    }
   ],
   "source": [
    "model.get_params"
   ]
  },
  {
   "cell_type": "code",
   "execution_count": 17,
   "metadata": {},
   "outputs": [],
   "source": [
    "predictions = model.predict(X_test)"
   ]
  },
  {
   "cell_type": "code",
   "execution_count": 18,
   "metadata": {},
   "outputs": [
    {
     "name": "stdout",
     "output_type": "stream",
     "text": [
      "Testing accuracy 0.6620231740658769\n",
      "Testing F1 score: 0.5676085610769569\n"
     ]
    },
    {
     "name": "stderr",
     "output_type": "stream",
     "text": [
      "C:\\Users\\hema.fullerton\\Anaconda3\\envs\\Keras\\lib\\site-packages\\sklearn\\metrics\\classification.py:1143: UndefinedMetricWarning: F-score is ill-defined and being set to 0.0 in labels with no predicted samples.\n",
      "  'precision', 'predicted', average, warn_for)\n"
     ]
    }
   ],
   "source": [
    "from sklearn.metrics import accuracy_score, f1_score, confusion_matrix\n",
    "from sklearn import metrics\n",
    "print('Testing accuracy %s' % accuracy_score(y_test, predictions))\n",
    "print('Testing F1 score: {}'.format(f1_score(y_test, predictions, average='weighted')))"
   ]
  },
  {
   "cell_type": "code",
   "execution_count": 21,
   "metadata": {},
   "outputs": [],
   "source": [
    "predict=[\"Alien WL - Not working in DNA-M.\"]"
   ]
  },
  {
   "cell_type": "code",
   "execution_count": 66,
   "metadata": {},
   "outputs": [],
   "source": [
    "from sklearn.externals import joblib\n",
    "#filename = 'finalized_model.sav'\n",
    "joblib.dump(model, filename)\n",
    "\n",
    "loaded_model = joblib.load(filename)\n",
    "result = loaded_model.predict_proba(predict)*100"
   ]
  },
  {
   "cell_type": "code",
   "execution_count": 67,
   "metadata": {},
   "outputs": [
    {
     "data": {
      "text/plain": [
       "array([[9.40783617e-03, 4.36311302e-02, 5.81528862e-02, 3.14095703e-01,\n",
       "        3.23886173e-02, 1.18706433e-01, 6.71290473e-02, 3.47035952e-02,\n",
       "        6.08252517e-01, 2.27948483e-01, 1.75066636e-02, 7.85837855e-01,\n",
       "        3.86484299e-01, 2.50609350e-02, 1.41229715e-01, 2.09919366e-01,\n",
       "        9.74693044e-03, 6.95594592e-02, 5.85746100e-02, 3.78239894e-02,\n",
       "        3.49728288e-01, 1.90589558e-02, 2.70736513e-01, 1.48351624e-01,\n",
       "        9.66765972e-02, 4.88272956e-02, 3.70450906e-01, 2.96255143e-02,\n",
       "        2.00358960e-02, 2.08040526e+01, 2.52848123e+00, 6.58160327e-02,\n",
       "        1.75586178e-02, 7.50490222e-03, 3.84479355e-03, 2.98209985e-01,\n",
       "        2.03876291e-02, 1.18232929e-01, 9.33716857e-01, 1.53946455e-02,\n",
       "        3.58732175e-01, 1.05918308e-02, 3.97894211e-02, 1.02204743e+00,\n",
       "        1.66446405e-01, 1.05208191e-01, 3.84479355e-03, 1.01822204e-01,\n",
       "        3.74020954e-01, 1.23588053e-01, 1.09276810e+00, 4.66509809e-02,\n",
       "        1.64704191e-01, 5.27275433e-02, 1.23621979e+00, 2.84850902e-01,\n",
       "        6.53538438e-02, 1.76886060e-01, 1.02252544e-01, 3.84428542e-01,\n",
       "        8.45642059e-03, 6.19171958e-02, 7.24402311e-01, 4.15381621e-02,\n",
       "        1.21834938e-02, 3.18085407e-01, 5.23385781e-01, 3.84479355e-03,\n",
       "        5.85310128e-01, 2.14476480e-02, 6.23636428e+01]])"
      ]
     },
     "execution_count": 67,
     "metadata": {},
     "output_type": "execute_result"
    }
   ],
   "source": [
    "result"
   ]
  },
  {
   "cell_type": "code",
   "execution_count": 22,
   "metadata": {},
   "outputs": [
    {
     "data": {
      "text/html": [
       "<div>\n",
       "<style scoped>\n",
       "    .dataframe tbody tr th:only-of-type {\n",
       "        vertical-align: middle;\n",
       "    }\n",
       "\n",
       "    .dataframe tbody tr th {\n",
       "        vertical-align: top;\n",
       "    }\n",
       "\n",
       "    .dataframe thead th {\n",
       "        text-align: right;\n",
       "    }\n",
       "</style>\n",
       "<table border=\"1\" class=\"dataframe\">\n",
       "  <thead>\n",
       "    <tr style=\"text-align: right;\">\n",
       "      <th></th>\n",
       "      <th>Category</th>\n",
       "      <th>probability</th>\n",
       "    </tr>\n",
       "  </thead>\n",
       "  <tbody>\n",
       "    <tr>\n",
       "      <th>12</th>\n",
       "      <td>Configuration Error</td>\n",
       "      <td>19.070274</td>\n",
       "    </tr>\n",
       "    <tr>\n",
       "      <th>55</th>\n",
       "      <td>SW Fault - Correction Available</td>\n",
       "      <td>7.238690</td>\n",
       "    </tr>\n",
       "    <tr>\n",
       "      <th>29</th>\n",
       "      <td>Hardware Replaced</td>\n",
       "      <td>6.545316</td>\n",
       "    </tr>\n",
       "  </tbody>\n",
       "</table>\n",
       "</div>"
      ],
      "text/plain": [
       "                           Category  probability\n",
       "12              Configuration Error    19.070274\n",
       "55  SW Fault - Correction Available     7.238690\n",
       "29                Hardware Replaced     6.545316"
      ]
     },
     "execution_count": 22,
     "metadata": {},
     "output_type": "execute_result"
    }
   ],
   "source": [
    "data_pred = pd.DataFrame(columns=['Category', 'probability'])\n",
    "data_pred['Category'] = model.classes_\n",
    "data_pred['probability'] = pd.DataFrame((model.predict_proba(predict)*100).T, columns=['probability'])\n",
    "data_pred=data_pred[data_pred.Category!='nan']\n",
    "data_pred.sort_values('probability', ascending = False).head(3)"
   ]
  },
  {
   "cell_type": "code",
   "execution_count": 43,
   "metadata": {},
   "outputs": [
    {
     "data": {
      "text/plain": [
       "['prediction_model.pkl']"
      ]
     },
     "execution_count": 43,
     "metadata": {},
     "output_type": "execute_result"
    }
   ],
   "source": [
    "from sklearn.externals import joblib\n",
    "joblib.dump(model, 'prediction_model.pkl')"
   ]
  },
  {
   "cell_type": "code",
   "execution_count": 22,
   "metadata": {},
   "outputs": [
    {
     "name": "stderr",
     "output_type": "stream",
     "text": [
      "C:\\Users\\hema.fullerton\\Anaconda3\\envs\\Keras\\lib\\site-packages\\sklearn\\metrics\\classification.py:1143: UndefinedMetricWarning: Precision and F-score are ill-defined and being set to 0.0 in labels with no predicted samples.\n",
      "  'precision', 'predicted', average, warn_for)\n"
     ]
    },
    {
     "name": "stdout",
     "output_type": "stream",
     "text": [
      "                                                              precision    recall  f1-score   support\n",
      "\n",
      "3rd Party Embedded/ Integrated Product - Documentation Error       0.00      0.00      0.00         1\n",
      "         3rd Party Embedded/ Integrated Product - HW Failure       0.00      0.00      0.00         6\n",
      "         3rd Party Embedded/ Integrated Product - SW Failure       0.00      0.00      0.00        11\n",
      "                        3rd Party Standalone Product Problem       0.00      0.00      0.00        52\n",
      "                                             Add/Move/Change       0.20      0.08      0.11        25\n",
      "                                       Cancelled by Customer       0.00      0.00      0.00        56\n",
      "                                           Capacity Exceeded       0.00      0.00      0.00         9\n",
      "                              Change Request (Customization)       0.00      0.00      0.00        16\n",
      "                                Cleared Without Intervention       0.00      0.00      0.00        99\n",
      "                                            Client Equipment       0.06      0.01      0.01       133\n",
      "                                         Compatibility Issue       0.00      0.00      0.00        18\n",
      "                                        Configuration Change       0.00      0.00      0.00       154\n",
      "                                         Configuration Error       0.17      0.19      0.18       416\n",
      "                                    Customer Closure Request       0.00      0.00      0.00         4\n",
      "                                        Customer Maintenance       0.82      0.13      0.23        67\n",
      "                             Customer's Transmission Network       0.44      0.14      0.21       160\n",
      "                                        DNA TSV Import Issue       0.00      0.00      0.00         2\n",
      "                                                Design Issue       0.00      0.00      0.00        11\n",
      "                                         Documentation Error       0.00      0.00      0.00        16\n",
      "                                       Documentation Request       0.00      0.00      0.00        14\n",
      "                                             Equipment Reset       0.26      0.05      0.08       129\n",
      "                                                Error in MOP       0.00      0.00      0.00         7\n",
      "                                              External Fiber       0.25      0.07      0.11       242\n",
      "                                              External Other       0.00      0.00      0.00        41\n",
      "                                              External Power       0.00      0.00      0.00        25\n",
      "                     Failure on Customer Purchased Equipment       0.00      0.00      0.00        18\n",
      "                                             Feature Request       0.00      0.00      0.00        74\n",
      "                    HW Design Fault - Routing to HW Services       0.00      0.00      0.00        60\n",
      "                          HW Failure- Routing to HW Services       0.34      0.39      0.37       705\n",
      "                                           Hardware Replaced       0.04      0.00      0.01      1757\n",
      "                                              Hardware Reset       0.03      0.00      0.01       300\n",
      "                                                 IP Networks       0.00      0.00      0.00        30\n",
      "                                 Infinera Installation Error       0.00      0.00      0.00         8\n",
      "                                        Infinera Maintenance       0.00      0.00      0.00        17\n",
      "                                          Infinera TAC Error       0.00      0.00      0.00         2\n",
      "                         Installation Procedure Not Followed       0.15      0.02      0.04        89\n",
      "                                   Instant Bandwidth Problem       0.50      0.37      0.42        41\n",
      "                             Instructions (MOP) Not Followed       0.00      0.00      0.00       130\n",
      "                                                 Known Issue       0.00      0.00      0.00       140\n",
      "                                             License Request       0.81      0.75      0.78        72\n",
      "                          Maintenance Procedure Not Followed       0.33      0.08      0.12       186\n",
      "                                        Multi-Vendor Support       0.00      0.00      0.00         9\n",
      "                                            Network Planning       0.48      0.14      0.22        69\n",
      "                                        No Customer Response       0.00      0.00      0.00       194\n",
      "                                            No Trouble Found       0.00      0.00      0.00        32\n",
      "                                  Not Applicable for Product       0.94      0.29      0.44        56\n",
      "                                             Opened in Error       0.61      0.18      0.28        61\n",
      "                                           Operational Error       0.25      0.13      0.18       351\n",
      "                                              Operator Error       0.00      0.00      0.00        28\n",
      "                                                       Other       0.40      0.03      0.06       234\n",
      "                                                Other Reason       0.63      0.41      0.50       114\n",
      "                                     Power Supply/Management       0.12      0.03      0.05        36\n",
      "                        Product Improvement Request/Proposal       0.00      0.00      0.00        19\n",
      "                                                    Question       0.24      0.04      0.07       271\n",
      "                             SW Fault - Correction Available       0.18      0.07      0.11       283\n",
      "                            SW Fault - Correction Not Needed       0.00      0.00      0.00        43\n",
      "                     SW Fault - Correction to be Implemented       0.00      0.00      0.00        70\n",
      "                                SW Fault - Future Correction       0.20      0.06      0.09       103\n",
      "    SW Fault - Workaround Provided as a Permanent Resolution       0.07      0.01      0.01       137\n",
      "                                             Security Threat       0.00      0.00      0.00         4\n",
      "          Site Condition (e.g. Power, Temperature, Humidity)       0.22      0.10      0.14       101\n",
      "                                            Software Problem       0.07      0.01      0.01       123\n",
      "                                            Software Request       0.00      0.00      0.00        11\n",
      "                                       System Access Request       0.00      0.00      0.00         8\n",
      "  Technical Advice Requested (originally Trouble Resolution)       0.18      0.11      0.14       177\n",
      "                     Transmission (e.g. External IP Network)       0.17      0.08      0.11       192\n",
      "                                                         UPS       0.00      0.00      0.00         1\n",
      "                               Unknown - Unable to Reproduce       0.23      0.04      0.07       224\n",
      "                                          Web Portal Problem       0.33      0.19      0.24        21\n",
      "                                                         nan       0.72      0.98      0.83     14728\n",
      "\n",
      "                                                   micro avg       0.66      0.66      0.66     23043\n",
      "                                                   macro avg       0.15      0.07      0.09     23043\n",
      "                                                weighted avg       0.52      0.66      0.57     23043\n",
      "\n"
     ]
    }
   ],
   "source": [
    "model.predict_proba(predict)*100\n",
    "print(metrics.classification_report(y_test,model.predict(X_test)))"
   ]
  },
  {
   "cell_type": "markdown",
   "metadata": {},
   "source": [
    "# Testing out pickle files for UI"
   ]
  },
  {
   "cell_type": "code",
   "execution_count": 93,
   "metadata": {},
   "outputs": [
    {
     "ename": "EOFError",
     "evalue": "",
     "output_type": "error",
     "traceback": [
      "\u001b[1;31m---------------------------------------------------------------------------\u001b[0m",
      "\u001b[1;31mEOFError\u001b[0m                                  Traceback (most recent call last)",
      "\u001b[1;32m<ipython-input-93-a87100d41854>\u001b[0m in \u001b[0;36m<module>\u001b[1;34m()\u001b[0m\n\u001b[0;32m      3\u001b[0m \u001b[0mfile\u001b[0m \u001b[1;33m=\u001b[0m \u001b[0mopen\u001b[0m\u001b[1;33m(\u001b[0m\u001b[1;34m'prediction_model.pkl'\u001b[0m\u001b[1;33m,\u001b[0m \u001b[1;34m'rb'\u001b[0m\u001b[1;33m)\u001b[0m\u001b[1;33m\u001b[0m\u001b[0m\n\u001b[0;32m      4\u001b[0m \u001b[0mgc\u001b[0m\u001b[1;33m.\u001b[0m\u001b[0mdisable\u001b[0m\u001b[1;33m(\u001b[0m\u001b[1;33m)\u001b[0m\u001b[1;33m\u001b[0m\u001b[0m\n\u001b[1;32m----> 5\u001b[1;33m \u001b[0mMdl\u001b[0m\u001b[1;33m=\u001b[0m\u001b[0mpickle\u001b[0m\u001b[1;33m.\u001b[0m\u001b[0mload\u001b[0m\u001b[1;33m(\u001b[0m\u001b[0mfile\u001b[0m\u001b[1;33m)\u001b[0m\u001b[1;33m\u001b[0m\u001b[0m\n\u001b[0m",
      "\u001b[1;31mEOFError\u001b[0m: "
     ]
    }
   ],
   "source": [
    "import gc\n",
    "import pickle\n",
    "file = open('prediction_model.pkl', 'rb')\n",
    "gc.disable()\n",
    "Mdl=pickle.load(file)"
   ]
  },
  {
   "cell_type": "code",
   "execution_count": null,
   "metadata": {},
   "outputs": [],
   "source": []
  },
  {
   "cell_type": "markdown",
   "metadata": {},
   "source": [
    "# Other Models"
   ]
  },
  {
   "cell_type": "code",
   "execution_count": 81,
   "metadata": {},
   "outputs": [],
   "source": [
    "from sklearn.naive_bayes import MultinomialNB\n",
    "from sklearn.pipeline import Pipeline\n",
    "from sklearn.feature_extraction.text import TfidfVectorizer, HashingVectorizer, CountVectorizer\n",
    "\n",
    "clf_1 = Pipeline([\n",
    "    ('vect', CountVectorizer()),\n",
    "    ('clf', MultinomialNB()),\n",
    "])\n",
    "clf_2 = Pipeline([\n",
    "    ('vect', HashingVectorizer(non_negative=True)),\n",
    "    ('clf', MultinomialNB()),\n",
    "])\n",
    "clf_3 = Pipeline([\n",
    "    ('vect', TfidfVectorizer()),\n",
    "    ('clf', MultinomialNB()),\n",
    "])\n",
    "\n",
    "svm = LinearSVC()\n",
    "svm_clf = CalibratedClassifierCV(svm) \n",
    "clf_4 = Pipeline([\n",
    "    ('vect', CountVectorizer()),\n",
    "    ('clf', svm_clf),\n",
    "])\n",
    "clf_5 = Pipeline([\n",
    "    ('vect', HashingVectorizer(non_negative=True)),\n",
    "    ('clf', svm_clf),\n",
    "])\n",
    "clf_6 = Pipeline([\n",
    "    ('vect', TfidfVectorizer()),\n",
    "    ('clf', svm_clf),\n",
    "])\n",
    "clfs = [clf_1, clf_2, clf_3,clf_4, clf_5, clf_6]\n",
    "clf_names=['Naive Bayes with CountVectorizor','Naive Bayes with HashingVectorizer','Naive Bayes with TfidVectorizor',\n",
    "           'SVM with CountVectorizor','SVM with HashingVectorizer','SVM with TfidVectorizor',]"
   ]
  },
  {
   "cell_type": "code",
   "execution_count": 82,
   "metadata": {},
   "outputs": [],
   "source": [
    "from sklearn.model_selection  import cross_val_score, KFold\n",
    "from scipy.stats import sem\n",
    "\n",
    "def evaluate_cross_validation(clf, X, y, K):\n",
    "    # create a k-fold croos validation iterator of k=5 folds\n",
    "    cv = KFold( n_splits=K,random_state=0)\n",
    "    # by default the score used is the one returned by score method of the estimator (accuracy)\n",
    "    scores = cross_val_score(clf, X, y, cv=cv)\n",
    "    print (scores)\n",
    "    print (np.mean(scores), sem(scores))"
   ]
  },
  {
   "cell_type": "code",
   "execution_count": 84,
   "metadata": {},
   "outputs": [
    {
     "name": "stdout",
     "output_type": "stream",
     "text": [
      "Naive Bayes with CountVectorizor\n",
      "[0.57668272 0.63657076 0.42178244 0.65288718 0.64859059]\n",
      "0.5873027374066452 0.043585899447750695\n",
      "--------------------\n",
      "Naive Bayes with HashingVectorizer\n"
     ]
    },
    {
     "name": "stderr",
     "output_type": "stream",
     "text": [
      "C:\\Users\\hema.fullerton\\Anaconda3\\envs\\Keras\\lib\\site-packages\\sklearn\\feature_extraction\\hashing.py:102: DeprecationWarning: the option non_negative=True has been deprecated in 0.19 and will be removed in version 0.21.\n",
      "  \" in version 0.21.\", DeprecationWarning)\n",
      "C:\\Users\\hema.fullerton\\Anaconda3\\envs\\Keras\\lib\\site-packages\\sklearn\\feature_extraction\\hashing.py:102: DeprecationWarning: the option non_negative=True has been deprecated in 0.19 and will be removed in version 0.21.\n",
      "  \" in version 0.21.\", DeprecationWarning)\n",
      "C:\\Users\\hema.fullerton\\Anaconda3\\envs\\Keras\\lib\\site-packages\\sklearn\\feature_extraction\\hashing.py:102: DeprecationWarning: the option non_negative=True has been deprecated in 0.19 and will be removed in version 0.21.\n",
      "  \" in version 0.21.\", DeprecationWarning)\n",
      "C:\\Users\\hema.fullerton\\Anaconda3\\envs\\Keras\\lib\\site-packages\\sklearn\\feature_extraction\\hashing.py:102: DeprecationWarning: the option non_negative=True has been deprecated in 0.19 and will be removed in version 0.21.\n",
      "  \" in version 0.21.\", DeprecationWarning)\n",
      "C:\\Users\\hema.fullerton\\Anaconda3\\envs\\Keras\\lib\\site-packages\\sklearn\\feature_extraction\\hashing.py:102: DeprecationWarning: the option non_negative=True has been deprecated in 0.19 and will be removed in version 0.21.\n",
      "  \" in version 0.21.\", DeprecationWarning)\n",
      "C:\\Users\\hema.fullerton\\Anaconda3\\envs\\Keras\\lib\\site-packages\\sklearn\\feature_extraction\\hashing.py:102: DeprecationWarning: the option non_negative=True has been deprecated in 0.19 and will be removed in version 0.21.\n",
      "  \" in version 0.21.\", DeprecationWarning)\n",
      "C:\\Users\\hema.fullerton\\Anaconda3\\envs\\Keras\\lib\\site-packages\\sklearn\\feature_extraction\\hashing.py:102: DeprecationWarning: the option non_negative=True has been deprecated in 0.19 and will be removed in version 0.21.\n",
      "  \" in version 0.21.\", DeprecationWarning)\n",
      "C:\\Users\\hema.fullerton\\Anaconda3\\envs\\Keras\\lib\\site-packages\\sklearn\\feature_extraction\\hashing.py:102: DeprecationWarning: the option non_negative=True has been deprecated in 0.19 and will be removed in version 0.21.\n",
      "  \" in version 0.21.\", DeprecationWarning)\n",
      "C:\\Users\\hema.fullerton\\Anaconda3\\envs\\Keras\\lib\\site-packages\\sklearn\\feature_extraction\\hashing.py:102: DeprecationWarning: the option non_negative=True has been deprecated in 0.19 and will be removed in version 0.21.\n",
      "  \" in version 0.21.\", DeprecationWarning)\n",
      "C:\\Users\\hema.fullerton\\Anaconda3\\envs\\Keras\\lib\\site-packages\\sklearn\\feature_extraction\\hashing.py:102: DeprecationWarning: the option non_negative=True has been deprecated in 0.19 and will be removed in version 0.21.\n",
      "  \" in version 0.21.\", DeprecationWarning)\n",
      "C:\\Users\\hema.fullerton\\Anaconda3\\envs\\Keras\\lib\\site-packages\\sklearn\\feature_extraction\\hashing.py:102: DeprecationWarning: the option non_negative=True has been deprecated in 0.19 and will be removed in version 0.21.\n",
      "  \" in version 0.21.\", DeprecationWarning)\n",
      "C:\\Users\\hema.fullerton\\Anaconda3\\envs\\Keras\\lib\\site-packages\\sklearn\\feature_extraction\\hashing.py:102: DeprecationWarning: the option non_negative=True has been deprecated in 0.19 and will be removed in version 0.21.\n",
      "  \" in version 0.21.\", DeprecationWarning)\n",
      "C:\\Users\\hema.fullerton\\Anaconda3\\envs\\Keras\\lib\\site-packages\\sklearn\\feature_extraction\\hashing.py:102: DeprecationWarning: the option non_negative=True has been deprecated in 0.19 and will be removed in version 0.21.\n",
      "  \" in version 0.21.\", DeprecationWarning)\n",
      "C:\\Users\\hema.fullerton\\Anaconda3\\envs\\Keras\\lib\\site-packages\\sklearn\\feature_extraction\\hashing.py:102: DeprecationWarning: the option non_negative=True has been deprecated in 0.19 and will be removed in version 0.21.\n",
      "  \" in version 0.21.\", DeprecationWarning)\n",
      "C:\\Users\\hema.fullerton\\Anaconda3\\envs\\Keras\\lib\\site-packages\\sklearn\\feature_extraction\\hashing.py:102: DeprecationWarning: the option non_negative=True has been deprecated in 0.19 and will be removed in version 0.21.\n",
      "  \" in version 0.21.\", DeprecationWarning)\n"
     ]
    },
    {
     "name": "stdout",
     "output_type": "stream",
     "text": [
      "[0.71468559 0.63103763 0.37139509 0.73276479 0.74363648]\n",
      "0.6387039161094574 0.0696937179049779\n",
      "--------------------\n",
      "Naive Bayes with TfidVectorizor\n",
      "[0.68812655 0.64627002 0.38584728 0.71779181 0.72313   ]\n",
      "0.6322331307003066 0.06309105602793266\n",
      "--------------------\n",
      "SVM with CountVectorizor\n"
     ]
    },
    {
     "name": "stderr",
     "output_type": "stream",
     "text": [
      "C:\\Users\\hema.fullerton\\Anaconda3\\envs\\Keras\\lib\\site-packages\\sklearn\\model_selection\\_split.py:1943: FutureWarning: You should specify a value for 'cv' instead of relying on the default value. The default value will change from 3 to 5 in version 0.22.\n",
      "  warnings.warn(CV_WARNING, FutureWarning)\n",
      "C:\\Users\\hema.fullerton\\Anaconda3\\envs\\Keras\\lib\\site-packages\\sklearn\\model_selection\\_split.py:626: Warning: The least populated class in y has only 1 members, which is too few. The minimum number of members in any class cannot be less than n_splits=3.\n",
      "  % (min_groups, self.n_splits)), Warning)\n",
      "C:\\Users\\hema.fullerton\\Anaconda3\\envs\\Keras\\lib\\site-packages\\sklearn\\model_selection\\_split.py:1943: FutureWarning: You should specify a value for 'cv' instead of relying on the default value. The default value will change from 3 to 5 in version 0.22.\n",
      "  warnings.warn(CV_WARNING, FutureWarning)\n",
      "C:\\Users\\hema.fullerton\\Anaconda3\\envs\\Keras\\lib\\site-packages\\sklearn\\model_selection\\_split.py:626: Warning: The least populated class in y has only 1 members, which is too few. The minimum number of members in any class cannot be less than n_splits=3.\n",
      "  % (min_groups, self.n_splits)), Warning)\n",
      "C:\\Users\\hema.fullerton\\Anaconda3\\envs\\Keras\\lib\\site-packages\\sklearn\\model_selection\\_split.py:1943: FutureWarning: You should specify a value for 'cv' instead of relying on the default value. The default value will change from 3 to 5 in version 0.22.\n",
      "  warnings.warn(CV_WARNING, FutureWarning)\n",
      "C:\\Users\\hema.fullerton\\Anaconda3\\envs\\Keras\\lib\\site-packages\\sklearn\\model_selection\\_split.py:626: Warning: The least populated class in y has only 1 members, which is too few. The minimum number of members in any class cannot be less than n_splits=3.\n",
      "  % (min_groups, self.n_splits)), Warning)\n",
      "C:\\Users\\hema.fullerton\\Anaconda3\\envs\\Keras\\lib\\site-packages\\sklearn\\model_selection\\_split.py:1943: FutureWarning: You should specify a value for 'cv' instead of relying on the default value. The default value will change from 3 to 5 in version 0.22.\n",
      "  warnings.warn(CV_WARNING, FutureWarning)\n",
      "C:\\Users\\hema.fullerton\\Anaconda3\\envs\\Keras\\lib\\site-packages\\sklearn\\model_selection\\_split.py:626: Warning: The least populated class in y has only 1 members, which is too few. The minimum number of members in any class cannot be less than n_splits=3.\n",
      "  % (min_groups, self.n_splits)), Warning)\n",
      "C:\\Users\\hema.fullerton\\Anaconda3\\envs\\Keras\\lib\\site-packages\\sklearn\\model_selection\\_split.py:1943: FutureWarning: You should specify a value for 'cv' instead of relying on the default value. The default value will change from 3 to 5 in version 0.22.\n",
      "  warnings.warn(CV_WARNING, FutureWarning)\n",
      "C:\\Users\\hema.fullerton\\Anaconda3\\envs\\Keras\\lib\\site-packages\\sklearn\\model_selection\\_split.py:626: Warning: The least populated class in y has only 1 members, which is too few. The minimum number of members in any class cannot be less than n_splits=3.\n",
      "  % (min_groups, self.n_splits)), Warning)\n"
     ]
    },
    {
     "name": "stdout",
     "output_type": "stream",
     "text": [
      "[0.70654863 0.65277959 0.39007877 0.73224399 0.74090229]\n",
      "0.6445106525849559 0.06543743346356069\n",
      "--------------------\n",
      "SVM with HashingVectorizer\n"
     ]
    },
    {
     "name": "stderr",
     "output_type": "stream",
     "text": [
      "C:\\Users\\hema.fullerton\\Anaconda3\\envs\\Keras\\lib\\site-packages\\sklearn\\feature_extraction\\hashing.py:102: DeprecationWarning: the option non_negative=True has been deprecated in 0.19 and will be removed in version 0.21.\n",
      "  \" in version 0.21.\", DeprecationWarning)\n",
      "C:\\Users\\hema.fullerton\\Anaconda3\\envs\\Keras\\lib\\site-packages\\sklearn\\feature_extraction\\hashing.py:102: DeprecationWarning: the option non_negative=True has been deprecated in 0.19 and will be removed in version 0.21.\n",
      "  \" in version 0.21.\", DeprecationWarning)\n",
      "C:\\Users\\hema.fullerton\\Anaconda3\\envs\\Keras\\lib\\site-packages\\sklearn\\model_selection\\_split.py:1943: FutureWarning: You should specify a value for 'cv' instead of relying on the default value. The default value will change from 3 to 5 in version 0.22.\n",
      "  warnings.warn(CV_WARNING, FutureWarning)\n",
      "C:\\Users\\hema.fullerton\\Anaconda3\\envs\\Keras\\lib\\site-packages\\sklearn\\model_selection\\_split.py:626: Warning: The least populated class in y has only 1 members, which is too few. The minimum number of members in any class cannot be less than n_splits=3.\n",
      "  % (min_groups, self.n_splits)), Warning)\n",
      "C:\\Users\\hema.fullerton\\Anaconda3\\envs\\Keras\\lib\\site-packages\\sklearn\\feature_extraction\\hashing.py:102: DeprecationWarning: the option non_negative=True has been deprecated in 0.19 and will be removed in version 0.21.\n",
      "  \" in version 0.21.\", DeprecationWarning)\n",
      "C:\\Users\\hema.fullerton\\Anaconda3\\envs\\Keras\\lib\\site-packages\\sklearn\\feature_extraction\\hashing.py:102: DeprecationWarning: the option non_negative=True has been deprecated in 0.19 and will be removed in version 0.21.\n",
      "  \" in version 0.21.\", DeprecationWarning)\n",
      "C:\\Users\\hema.fullerton\\Anaconda3\\envs\\Keras\\lib\\site-packages\\sklearn\\feature_extraction\\hashing.py:102: DeprecationWarning: the option non_negative=True has been deprecated in 0.19 and will be removed in version 0.21.\n",
      "  \" in version 0.21.\", DeprecationWarning)\n",
      "C:\\Users\\hema.fullerton\\Anaconda3\\envs\\Keras\\lib\\site-packages\\sklearn\\model_selection\\_split.py:1943: FutureWarning: You should specify a value for 'cv' instead of relying on the default value. The default value will change from 3 to 5 in version 0.22.\n",
      "  warnings.warn(CV_WARNING, FutureWarning)\n",
      "C:\\Users\\hema.fullerton\\Anaconda3\\envs\\Keras\\lib\\site-packages\\sklearn\\model_selection\\_split.py:626: Warning: The least populated class in y has only 1 members, which is too few. The minimum number of members in any class cannot be less than n_splits=3.\n",
      "  % (min_groups, self.n_splits)), Warning)\n",
      "C:\\Users\\hema.fullerton\\Anaconda3\\envs\\Keras\\lib\\site-packages\\sklearn\\feature_extraction\\hashing.py:102: DeprecationWarning: the option non_negative=True has been deprecated in 0.19 and will be removed in version 0.21.\n",
      "  \" in version 0.21.\", DeprecationWarning)\n",
      "C:\\Users\\hema.fullerton\\Anaconda3\\envs\\Keras\\lib\\site-packages\\sklearn\\feature_extraction\\hashing.py:102: DeprecationWarning: the option non_negative=True has been deprecated in 0.19 and will be removed in version 0.21.\n",
      "  \" in version 0.21.\", DeprecationWarning)\n",
      "C:\\Users\\hema.fullerton\\Anaconda3\\envs\\Keras\\lib\\site-packages\\sklearn\\feature_extraction\\hashing.py:102: DeprecationWarning: the option non_negative=True has been deprecated in 0.19 and will be removed in version 0.21.\n",
      "  \" in version 0.21.\", DeprecationWarning)\n",
      "C:\\Users\\hema.fullerton\\Anaconda3\\envs\\Keras\\lib\\site-packages\\sklearn\\model_selection\\_split.py:1943: FutureWarning: You should specify a value for 'cv' instead of relying on the default value. The default value will change from 3 to 5 in version 0.22.\n",
      "  warnings.warn(CV_WARNING, FutureWarning)\n",
      "C:\\Users\\hema.fullerton\\Anaconda3\\envs\\Keras\\lib\\site-packages\\sklearn\\model_selection\\_split.py:626: Warning: The least populated class in y has only 1 members, which is too few. The minimum number of members in any class cannot be less than n_splits=3.\n",
      "  % (min_groups, self.n_splits)), Warning)\n",
      "C:\\Users\\hema.fullerton\\Anaconda3\\envs\\Keras\\lib\\site-packages\\sklearn\\feature_extraction\\hashing.py:102: DeprecationWarning: the option non_negative=True has been deprecated in 0.19 and will be removed in version 0.21.\n",
      "  \" in version 0.21.\", DeprecationWarning)\n",
      "C:\\Users\\hema.fullerton\\Anaconda3\\envs\\Keras\\lib\\site-packages\\sklearn\\feature_extraction\\hashing.py:102: DeprecationWarning: the option non_negative=True has been deprecated in 0.19 and will be removed in version 0.21.\n",
      "  \" in version 0.21.\", DeprecationWarning)\n",
      "C:\\Users\\hema.fullerton\\Anaconda3\\envs\\Keras\\lib\\site-packages\\sklearn\\feature_extraction\\hashing.py:102: DeprecationWarning: the option non_negative=True has been deprecated in 0.19 and will be removed in version 0.21.\n",
      "  \" in version 0.21.\", DeprecationWarning)\n",
      "C:\\Users\\hema.fullerton\\Anaconda3\\envs\\Keras\\lib\\site-packages\\sklearn\\model_selection\\_split.py:1943: FutureWarning: You should specify a value for 'cv' instead of relying on the default value. The default value will change from 3 to 5 in version 0.22.\n",
      "  warnings.warn(CV_WARNING, FutureWarning)\n",
      "C:\\Users\\hema.fullerton\\Anaconda3\\envs\\Keras\\lib\\site-packages\\sklearn\\model_selection\\_split.py:626: Warning: The least populated class in y has only 1 members, which is too few. The minimum number of members in any class cannot be less than n_splits=3.\n",
      "  % (min_groups, self.n_splits)), Warning)\n",
      "C:\\Users\\hema.fullerton\\Anaconda3\\envs\\Keras\\lib\\site-packages\\sklearn\\feature_extraction\\hashing.py:102: DeprecationWarning: the option non_negative=True has been deprecated in 0.19 and will be removed in version 0.21.\n",
      "  \" in version 0.21.\", DeprecationWarning)\n",
      "C:\\Users\\hema.fullerton\\Anaconda3\\envs\\Keras\\lib\\site-packages\\sklearn\\feature_extraction\\hashing.py:102: DeprecationWarning: the option non_negative=True has been deprecated in 0.19 and will be removed in version 0.21.\n",
      "  \" in version 0.21.\", DeprecationWarning)\n",
      "C:\\Users\\hema.fullerton\\Anaconda3\\envs\\Keras\\lib\\site-packages\\sklearn\\feature_extraction\\hashing.py:102: DeprecationWarning: the option non_negative=True has been deprecated in 0.19 and will be removed in version 0.21.\n",
      "  \" in version 0.21.\", DeprecationWarning)\n",
      "C:\\Users\\hema.fullerton\\Anaconda3\\envs\\Keras\\lib\\site-packages\\sklearn\\model_selection\\_split.py:1943: FutureWarning: You should specify a value for 'cv' instead of relying on the default value. The default value will change from 3 to 5 in version 0.22.\n",
      "  warnings.warn(CV_WARNING, FutureWarning)\n",
      "C:\\Users\\hema.fullerton\\Anaconda3\\envs\\Keras\\lib\\site-packages\\sklearn\\model_selection\\_split.py:626: Warning: The least populated class in y has only 1 members, which is too few. The minimum number of members in any class cannot be less than n_splits=3.\n",
      "  % (min_groups, self.n_splits)), Warning)\n",
      "C:\\Users\\hema.fullerton\\Anaconda3\\envs\\Keras\\lib\\site-packages\\sklearn\\feature_extraction\\hashing.py:102: DeprecationWarning: the option non_negative=True has been deprecated in 0.19 and will be removed in version 0.21.\n",
      "  \" in version 0.21.\", DeprecationWarning)\n"
     ]
    },
    {
     "name": "stdout",
     "output_type": "stream",
     "text": [
      "[0.70602786 0.6555787  0.38825597 0.7305514  0.74194388]\n",
      "0.6444715629638481 0.06575316189269131\n",
      "--------------------\n",
      "SVM with TfidVectorizor\n"
     ]
    },
    {
     "name": "stderr",
     "output_type": "stream",
     "text": [
      "C:\\Users\\hema.fullerton\\Anaconda3\\envs\\Keras\\lib\\site-packages\\sklearn\\model_selection\\_split.py:1943: FutureWarning: You should specify a value for 'cv' instead of relying on the default value. The default value will change from 3 to 5 in version 0.22.\n",
      "  warnings.warn(CV_WARNING, FutureWarning)\n",
      "C:\\Users\\hema.fullerton\\Anaconda3\\envs\\Keras\\lib\\site-packages\\sklearn\\model_selection\\_split.py:626: Warning: The least populated class in y has only 1 members, which is too few. The minimum number of members in any class cannot be less than n_splits=3.\n",
      "  % (min_groups, self.n_splits)), Warning)\n",
      "C:\\Users\\hema.fullerton\\Anaconda3\\envs\\Keras\\lib\\site-packages\\sklearn\\model_selection\\_split.py:1943: FutureWarning: You should specify a value for 'cv' instead of relying on the default value. The default value will change from 3 to 5 in version 0.22.\n",
      "  warnings.warn(CV_WARNING, FutureWarning)\n",
      "C:\\Users\\hema.fullerton\\Anaconda3\\envs\\Keras\\lib\\site-packages\\sklearn\\model_selection\\_split.py:626: Warning: The least populated class in y has only 1 members, which is too few. The minimum number of members in any class cannot be less than n_splits=3.\n",
      "  % (min_groups, self.n_splits)), Warning)\n",
      "C:\\Users\\hema.fullerton\\Anaconda3\\envs\\Keras\\lib\\site-packages\\sklearn\\model_selection\\_split.py:1943: FutureWarning: You should specify a value for 'cv' instead of relying on the default value. The default value will change from 3 to 5 in version 0.22.\n",
      "  warnings.warn(CV_WARNING, FutureWarning)\n",
      "C:\\Users\\hema.fullerton\\Anaconda3\\envs\\Keras\\lib\\site-packages\\sklearn\\model_selection\\_split.py:626: Warning: The least populated class in y has only 1 members, which is too few. The minimum number of members in any class cannot be less than n_splits=3.\n",
      "  % (min_groups, self.n_splits)), Warning)\n",
      "C:\\Users\\hema.fullerton\\Anaconda3\\envs\\Keras\\lib\\site-packages\\sklearn\\model_selection\\_split.py:1943: FutureWarning: You should specify a value for 'cv' instead of relying on the default value. The default value will change from 3 to 5 in version 0.22.\n",
      "  warnings.warn(CV_WARNING, FutureWarning)\n",
      "C:\\Users\\hema.fullerton\\Anaconda3\\envs\\Keras\\lib\\site-packages\\sklearn\\model_selection\\_split.py:626: Warning: The least populated class in y has only 1 members, which is too few. The minimum number of members in any class cannot be less than n_splits=3.\n",
      "  % (min_groups, self.n_splits)), Warning)\n",
      "C:\\Users\\hema.fullerton\\Anaconda3\\envs\\Keras\\lib\\site-packages\\sklearn\\model_selection\\_split.py:1943: FutureWarning: You should specify a value for 'cv' instead of relying on the default value. The default value will change from 3 to 5 in version 0.22.\n",
      "  warnings.warn(CV_WARNING, FutureWarning)\n",
      "C:\\Users\\hema.fullerton\\Anaconda3\\envs\\Keras\\lib\\site-packages\\sklearn\\model_selection\\_split.py:626: Warning: The least populated class in y has only 1 members, which is too few. The minimum number of members in any class cannot be less than n_splits=3.\n",
      "  % (min_groups, self.n_splits)), Warning)\n"
     ]
    },
    {
     "name": "stdout",
     "output_type": "stream",
     "text": [
      "[0.70479104 0.65505794 0.38727947 0.7302259  0.73973049]\n",
      "0.6434169670076428 0.06569657104147919\n",
      "--------------------\n"
     ]
    }
   ],
   "source": [
    "i=0\n",
    "for clf in clfs:\n",
    "    print(clf_names[i])\n",
    "    evaluate_cross_validation(clf, data['keys_filtered'],data['ResolutionCode__c'], 5)\n",
    "    print('-'*20)\n",
    "    i=i+1"
   ]
  },
  {
   "cell_type": "code",
   "execution_count": null,
   "metadata": {},
   "outputs": [],
   "source": []
  }
 ],
 "metadata": {
  "kernelspec": {
   "display_name": "Python 3",
   "language": "python",
   "name": "python3"
  },
  "language_info": {
   "codemirror_mode": {
    "name": "ipython",
    "version": 3
   },
   "file_extension": ".py",
   "mimetype": "text/x-python",
   "name": "python",
   "nbconvert_exporter": "python",
   "pygments_lexer": "ipython3",
   "version": "3.5.6"
  }
 },
 "nbformat": 4,
 "nbformat_minor": 2
}
